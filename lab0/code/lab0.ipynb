{
 "cells": [
  {
   "cell_type": "markdown",
   "metadata": {},
   "source": [
    "# Лабораторная работа №1\n",
    "### Дьячков Вадим, 33501/4"
   ]
  },
  {
   "cell_type": "markdown",
   "metadata": {},
   "source": [
    "## №1. Крестики-нолики"
   ]
  },
  {
   "cell_type": "markdown",
   "metadata": {},
   "source": [
    "### Задание 1"
   ]
  },
  {
   "cell_type": "markdown",
   "metadata": {},
   "source": [
    "$y = f1(x)$\n",
    "\n",
    "$x = [x_1, x_2]$, $x_i \\in \\{1, 2, 3, 4\\}$\n",
    "\n",
    "$y_i \\in \\{0, 1\\}$"
   ]
  },
  {
   "cell_type": "code",
   "execution_count": 1,
   "metadata": {
    "collapsed": true
   },
   "outputs": [],
   "source": [
    "import random as rnd\n",
    "import numpy as np\n",
    "import itertools\n",
    "import seaborn as sns\n",
    "from matplotlib import pyplot as plt\n",
    "from shapely.geometry import Point\n",
    "from shapely.geometry.polygon import Polygon\n",
    "from descartes import PolygonPatch\n",
    "\n",
    "rnd.seed(42)\n",
    "sns.set(font_scale=1.5)\n",
    "\n",
    "map1 = np.array([['O' if rnd.random() > 0.5 else 'X' for i in range(4)] for j in range(4)])"
   ]
  },
  {
   "cell_type": "code",
   "execution_count": 2,
   "metadata": {
    "collapsed": true
   },
   "outputs": [],
   "source": [
    "def f1(x):\n",
    "    x = np.array(x)\n",
    "    if len(x.shape) == 1:\n",
    "        return map1[x[0] - 1, x[1] - 1]\n",
    "    else:\n",
    "        return np.array([f1(xi) for xi in x])[np.newaxis].T"
   ]
  },
  {
   "cell_type": "code",
   "execution_count": 3,
   "metadata": {
    "collapsed": true
   },
   "outputs": [],
   "source": [
    "def print_map1():\n",
    "    print('x1\\\\x2', end='  ')\n",
    "    for i in range(1, 5):\n",
    "        print(i, end = ' ')\n",
    "    print()\n",
    "    for i in range(1, 5):\n",
    "        print(i, end=''.ljust(6))\n",
    "        for j in range(1, 5):\n",
    "            print(f1([i, j]), end=' ')\n",
    "        print()"
   ]
  },
  {
   "cell_type": "code",
   "execution_count": 4,
   "metadata": {},
   "outputs": [
    {
     "name": "stdout",
     "output_type": "stream",
     "text": [
      "x1\\x2  1 2 3 4 \n",
      "1      O X X X \n",
      "2      O O O X \n",
      "3      X X X O \n",
      "4      X X O O \n"
     ]
    }
   ],
   "source": [
    "print_map1()"
   ]
  },
  {
   "cell_type": "code",
   "execution_count": 5,
   "metadata": {},
   "outputs": [
    {
     "data": {
      "text/plain": [
       "'X'"
      ]
     },
     "execution_count": 5,
     "metadata": {},
     "output_type": "execute_result"
    }
   ],
   "source": [
    "f1(np.array([1, 2])) # x1 = 1, x2 = 2"
   ]
  },
  {
   "cell_type": "code",
   "execution_count": 6,
   "metadata": {},
   "outputs": [
    {
     "data": {
      "text/plain": [
       "'O'"
      ]
     },
     "execution_count": 6,
     "metadata": {},
     "output_type": "execute_result"
    }
   ],
   "source": [
    "f1([4, 4]) # x1 = 4, x2 = 4"
   ]
  },
  {
   "cell_type": "markdown",
   "metadata": {},
   "source": [
    "### Задание 2"
   ]
  },
  {
   "cell_type": "code",
   "execution_count": 7,
   "metadata": {
    "scrolled": true
   },
   "outputs": [
    {
     "name": "stdout",
     "output_type": "stream",
     "text": [
      "[1 1] -> O\n",
      "[1 2] -> X\n",
      "[1 3] -> X\n",
      "[1 4] -> X\n",
      "[2 1] -> O\n",
      "[2 2] -> O\n",
      "[2 3] -> O\n",
      "[2 4] -> X\n",
      "[3 1] -> X\n",
      "[3 2] -> X\n",
      "[3 3] -> X\n",
      "[3 4] -> O\n",
      "[4 1] -> X\n",
      "[4 2] -> X\n",
      "[4 3] -> O\n",
      "[4 4] -> O\n"
     ]
    }
   ],
   "source": [
    "p_1 = np.reshape(np.transpose(np.meshgrid([1, 2, 3, 4], [1, 2, 3, 4])), (16, 2))\n",
    "t_1 = f1(p_1)\n",
    "\n",
    "for i in range(len(p_1)):\n",
    "    print(p_1[i], '->', t_1[i][0])"
   ]
  },
  {
   "cell_type": "code",
   "execution_count": 8,
   "metadata": {},
   "outputs": [
    {
     "data": {
      "image/png": "[encoded data removed]",
      "text/plain": [
       "<matplotlib.figure.Figure at 0x1a0b7a2a208>"
      ]
     },
     "metadata": {},
     "output_type": "display_data"
    }
   ],
   "source": [
    "fig = plt.figure(figsize=(8, 8))\n",
    "for i in range(len(p_1)):\n",
    "    [x1, x2] = p_1[i]\n",
    "    y = t_1[i][0]\n",
    "    m = 'X' if y == 'X' else 'o'\n",
    "    plt.plot(x1, x2, m, markersize=20, color=('r' if y == 'O' else 'b'))\n",
    "plt.xlabel('$x_1$')\n",
    "plt.ylabel('$x_2$')\n",
    "plt.show()"
   ]
  },
  {
   "cell_type": "markdown",
   "metadata": {},
   "source": [
    "## №2. Логическая функция 5 переменных"
   ]
  },
  {
   "cell_type": "markdown",
   "metadata": {},
   "source": [
    "### Задание 1"
   ]
  },
  {
   "cell_type": "markdown",
   "metadata": {},
   "source": [
    "$y = f2(x)$\n",
    "\n",
    "$x = [x_1, x_2, x_3, x_4, x_5]$, $x_i \\in \\{0, 1\\}$\n",
    "\n",
    "$y_i \\in \\{0, 1\\}$"
   ]
  },
  {
   "cell_type": "code",
   "execution_count": 9,
   "metadata": {
    "collapsed": true
   },
   "outputs": [],
   "source": [
    "map2 = {'{0:b}'.format(i).zfill(5): 0 if rnd.random() > 0.25 else 1 \n",
    "        for i in range(32)}"
   ]
  },
  {
   "cell_type": "code",
   "execution_count": 10,
   "metadata": {
    "collapsed": true
   },
   "outputs": [],
   "source": [
    "def f2(x):\n",
    "    x = np.array(x)\n",
    "    if len(x.shape) == 1:\n",
    "        return map2[''.join([str(i) for i in x])]\n",
    "    else:\n",
    "        return np.array([f2(xi) for xi in x])[np.newaxis].T"
   ]
  },
  {
   "cell_type": "code",
   "execution_count": 11,
   "metadata": {},
   "outputs": [
    {
     "data": {
      "text/plain": [
       "{'00000': 1,\n",
       " '00001': 0,\n",
       " '00010': 0,\n",
       " '00011': 1,\n",
       " '00100': 0,\n",
       " '00101': 0,\n",
       " '00110': 0,\n",
       " '00111': 1,\n",
       " '01000': 0,\n",
       " '01001': 0,\n",
       " '01010': 1,\n",
       " '01011': 1,\n",
       " '01100': 0,\n",
       " '01101': 0,\n",
       " '01110': 0,\n",
       " '01111': 0,\n",
       " '10000': 0,\n",
       " '10001': 0,\n",
       " '10010': 0,\n",
       " '10011': 0,\n",
       " '10100': 0,\n",
       " '10101': 0,\n",
       " '10110': 0,\n",
       " '10111': 0,\n",
       " '11000': 0,\n",
       " '11001': 1,\n",
       " '11010': 1,\n",
       " '11011': 0,\n",
       " '11100': 1,\n",
       " '11101': 1,\n",
       " '11110': 1,\n",
       " '11111': 0}"
      ]
     },
     "execution_count": 11,
     "metadata": {},
     "output_type": "execute_result"
    }
   ],
   "source": [
    "map2"
   ]
  },
  {
   "cell_type": "code",
   "execution_count": 12,
   "metadata": {},
   "outputs": [
    {
     "data": {
      "text/plain": [
       "1"
      ]
     },
     "execution_count": 12,
     "metadata": {},
     "output_type": "execute_result"
    }
   ],
   "source": [
    "f2([1, 1, 1, 1, 0])  # 11110"
   ]
  },
  {
   "cell_type": "code",
   "execution_count": 13,
   "metadata": {},
   "outputs": [
    {
     "data": {
      "text/plain": [
       "0"
      ]
     },
     "execution_count": 13,
     "metadata": {},
     "output_type": "execute_result"
    }
   ],
   "source": [
    "f2([1, 1, 1, 1, 1])  # 11111"
   ]
  },
  {
   "cell_type": "markdown",
   "metadata": {},
   "source": [
    "### Задание 2"
   ]
  },
  {
   "cell_type": "code",
   "execution_count": 14,
   "metadata": {
    "collapsed": true
   },
   "outputs": [],
   "source": [
    "p_2 = np.array(list(itertools.product([0, 1], repeat=5)))\n",
    "t_2 = f2(p_2)"
   ]
  },
  {
   "cell_type": "code",
   "execution_count": 15,
   "metadata": {},
   "outputs": [
    {
     "name": "stdout",
     "output_type": "stream",
     "text": [
      "[0 0 0 0 0] -> 1\n",
      "[0 0 0 0 1] -> 0\n",
      "[0 0 0 1 0] -> 0\n",
      "[0 0 0 1 1] -> 1\n",
      "[0 0 1 0 0] -> 0\n",
      "[0 0 1 0 1] -> 0\n",
      "[0 0 1 1 0] -> 0\n",
      "[0 0 1 1 1] -> 1\n",
      "[0 1 0 0 0] -> 0\n",
      "[0 1 0 0 1] -> 0\n",
      "[0 1 0 1 0] -> 1\n",
      "[0 1 0 1 1] -> 1\n",
      "[0 1 1 0 0] -> 0\n",
      "[0 1 1 0 1] -> 0\n",
      "[0 1 1 1 0] -> 0\n",
      "[0 1 1 1 1] -> 0\n",
      "[1 0 0 0 0] -> 0\n",
      "[1 0 0 0 1] -> 0\n",
      "[1 0 0 1 0] -> 0\n",
      "[1 0 0 1 1] -> 0\n",
      "[1 0 1 0 0] -> 0\n",
      "[1 0 1 0 1] -> 0\n",
      "[1 0 1 1 0] -> 0\n",
      "[1 0 1 1 1] -> 0\n",
      "[1 1 0 0 0] -> 0\n",
      "[1 1 0 0 1] -> 1\n",
      "[1 1 0 1 0] -> 1\n",
      "[1 1 0 1 1] -> 0\n",
      "[1 1 1 0 0] -> 1\n",
      "[1 1 1 0 1] -> 1\n",
      "[1 1 1 1 0] -> 1\n",
      "[1 1 1 1 1] -> 0\n"
     ]
    }
   ],
   "source": [
    "for i in range(len(p_2)):\n",
    "    print(p_2[i], '->', t_2[i][0])"
   ]
  },
  {
   "cell_type": "markdown",
   "metadata": {},
   "source": [
    "## №3. Разбиение плоскости на 2 класса"
   ]
  },
  {
   "cell_type": "markdown",
   "metadata": {},
   "source": [
    "### Задание 1"
   ]
  },
  {
   "cell_type": "code",
   "execution_count": 16,
   "metadata": {},
   "outputs": [
    {
     "data": {
      "image/png": "[encoded data removed]",
      "text/plain": [
       "<matplotlib.figure.Figure at 0x1a0b92a0048>"
      ]
     },
     "metadata": {},
     "output_type": "display_data"
    }
   ],
   "source": [
    "fig = plt.figure(1, figsize=(8, 8))\n",
    "circle = Point(0.5, 0.5).buffer(0.1)\n",
    "polygon = Polygon([(0, .5), (.35, .65), (.5, 1), (.65, .65), (1, .5), \n",
    "                   (.65, .35), (.5, 0), (.35, .35), (0, .5)])\n",
    "polygon = polygon.difference(circle)\n",
    "\n",
    "def f3(x):\n",
    "    x = np.array(x)\n",
    "    if len(x.shape) == 1:\n",
    "        point = Point(x[0], x[1])\n",
    "        return 1 if polygon.contains(point) else 0\n",
    "    else:\n",
    "        return np.array([f3(xi) for xi in x])[np.newaxis].T\n",
    "    \n",
    "ax = fig.add_subplot(111)\n",
    "ax.add_patch(PolygonPatch(polygon))\n",
    "plt.xlabel('$x_1$')\n",
    "plt.ylabel('$x_2$')\n",
    "plt.show()"
   ]
  },
  {
   "cell_type": "code",
   "execution_count": 17,
   "metadata": {},
   "outputs": [
    {
     "data": {
      "text/plain": [
       "0"
      ]
     },
     "execution_count": 17,
     "metadata": {},
     "output_type": "execute_result"
    }
   ],
   "source": [
    "f3([0.5, 0.5])"
   ]
  },
  {
   "cell_type": "code",
   "execution_count": 18,
   "metadata": {},
   "outputs": [
    {
     "data": {
      "text/plain": [
       "0"
      ]
     },
     "execution_count": 18,
     "metadata": {},
     "output_type": "execute_result"
    }
   ],
   "source": [
    "f3([0.2, 0.2])"
   ]
  },
  {
   "cell_type": "code",
   "execution_count": 19,
   "metadata": {},
   "outputs": [
    {
     "data": {
      "text/plain": [
       "1"
      ]
     },
     "execution_count": 19,
     "metadata": {},
     "output_type": "execute_result"
    }
   ],
   "source": [
    "f3([0.5, 0.3])"
   ]
  },
  {
   "cell_type": "markdown",
   "metadata": {},
   "source": [
    "### Задание 2"
   ]
  },
  {
   "cell_type": "code",
   "execution_count": 20,
   "metadata": {
    "collapsed": true
   },
   "outputs": [],
   "source": [
    "N = 41\n",
    "x = np.linspace(0, 1, N)\n",
    "p_3 = np.reshape(np.transpose(np.meshgrid(x, x)), (N * N, 2))\n",
    "t_3 = f3(p_3)"
   ]
  },
  {
   "cell_type": "code",
   "execution_count": 21,
   "metadata": {},
   "outputs": [
    {
     "data": {
      "image/png": "[encoded data removed]",
      "text/plain": [
       "<matplotlib.figure.Figure at 0x1a0b82423c8>"
      ]
     },
     "metadata": {},
     "output_type": "display_data"
    }
   ],
   "source": [
    "fig = plt.figure(figsize=(8, 8))\n",
    "for i in range(len(p_3)):\n",
    "    [x1, x2] = p_3[i]\n",
    "    y = t_3[i][0]\n",
    "    m = '.' if y == 1 else '.'\n",
    "    c = 'r' if y == 1 else 'b'\n",
    "    plt.plot(x1, x2, m, markersize=10, color=c)\n",
    "plt.xlabel('$x_1$')\n",
    "plt.ylabel('$x_2$')\n",
    "plt.show()"
   ]
  },
  {
   "cell_type": "markdown",
   "metadata": {},
   "source": [
    "## №4. Разбиение плоскости на $n$ классов"
   ]
  },
  {
   "cell_type": "markdown",
   "metadata": {},
   "source": [
    "### Задание 1"
   ]
  },
  {
   "cell_type": "code",
   "execution_count": 22,
   "metadata": {},
   "outputs": [
    {
     "data": {
      "image/png": "[encoded data removed]",
      "text/plain": [
       "<matplotlib.figure.Figure at 0x1a0bb0bf278>"
      ]
     },
     "metadata": {},
     "output_type": "display_data"
    }
   ],
   "source": [
    "def get_position_for_text(polygon):\n",
    "    coord = polygon.exterior.centroid.coords.xy\n",
    "    return coord[0][0], coord[1][0]\n",
    "\n",
    "polygons = {\n",
    "    1: Polygon([(0, 0), (0, 1), (.4, .8)]),\n",
    "    2: Polygon([(0, 1), (1, 1), (.8, .6)]),\n",
    "    3: Polygon([(1, 1), (1, 0), (.6, .2)]),\n",
    "    4: Polygon([(1, 0), (0, 0), (.2, .4)]),\n",
    "    5: Polygon([(.2, .4), (.4, .8), (.5, .5)]),\n",
    "    6: Polygon([(.4, .8), (.8, .6), (.5, .5)]),\n",
    "    7: Polygon([(.6, .2), (.8, .6), (.5, .5)]),\n",
    "    8: Polygon([(.2, .4), (.6, .2), (.5, .5)])\n",
    "}\n",
    "\n",
    "colors = {\n",
    "    1: '#0074D9',\n",
    "    2: '#39CCCC',\n",
    "    3: '#2ECC40',\n",
    "    4: '#F012BE',\n",
    "    5: '#FF851B',\n",
    "    6: '#FF4136',\n",
    "    7: '#B10DC9',\n",
    "    8: '#3D9970',\n",
    "}\n",
    "\n",
    "def f4(x):\n",
    "    x = np.array(x)\n",
    "    if len(x.shape) == 1:\n",
    "        point = Point(x[0], x[1])\n",
    "        for i, p in polygons.items():\n",
    "            if point.distance(p) < 1e-8:\n",
    "                return i\n",
    "    else:\n",
    "        return np.array([f4(xi) for xi in x])[np.newaxis].T\n",
    "\n",
    "fig = plt.figure(1, figsize=(8, 8))\n",
    "ax = fig.add_subplot(111)\n",
    "for i, p in polygons.items():\n",
    "    ax.add_patch(PolygonPatch(p, fc=colors[i], alpha=0.8))\n",
    "    ax.annotate(i, xy=get_position_for_text(p), size=20)\n",
    "\n",
    "plt.xlabel('$x_1$')\n",
    "plt.ylabel('$x_2$')\n",
    "plt.show()"
   ]
  },
  {
   "cell_type": "code",
   "execution_count": 23,
   "metadata": {},
   "outputs": [
    {
     "data": {
      "text/plain": [
       "3"
      ]
     },
     "execution_count": 23,
     "metadata": {},
     "output_type": "execute_result"
    }
   ],
   "source": [
    "f4([0.9, 0.5])"
   ]
  },
  {
   "cell_type": "code",
   "execution_count": 24,
   "metadata": {},
   "outputs": [
    {
     "data": {
      "text/plain": [
       "5"
      ]
     },
     "execution_count": 24,
     "metadata": {},
     "output_type": "execute_result"
    }
   ],
   "source": [
    "f4([0.4, 0.6])"
   ]
  },
  {
   "cell_type": "markdown",
   "metadata": {},
   "source": [
    "### Задание 2"
   ]
  },
  {
   "cell_type": "code",
   "execution_count": 25,
   "metadata": {
    "collapsed": true
   },
   "outputs": [],
   "source": [
    "N = 41\n",
    "x = np.linspace(0, 1, N)\n",
    "p_4 = np.reshape(np.transpose(np.meshgrid(x, x)), (N * N, 2))\n",
    "t_4 = f4(p_4)"
   ]
  },
  {
   "cell_type": "code",
   "execution_count": 26,
   "metadata": {
    "scrolled": false
   },
   "outputs": [
    {
     "data": {
      "image/png": "[encoded data removed]",
      "text/plain": [
       "<matplotlib.figure.Figure at 0x1a0bb089908>"
      ]
     },
     "metadata": {},
     "output_type": "display_data"
    }
   ],
   "source": [
    "fig = plt.figure(figsize=(8, 8))\n",
    "for i in range(len(p_4)):\n",
    "    [x1, x2] = p_4[i]\n",
    "    y = t_4[i][0]\n",
    "    plt.plot(x1, x2, '.', markersize=10, color=colors[y])\n",
    "plt.xlabel('$x_1$')\n",
    "plt.ylabel('$x_2$')\n",
    "plt.show()"
   ]
  },
  {
   "cell_type": "markdown",
   "metadata": {},
   "source": [
    "## №5. Непрерывная функция одной переменной"
   ]
  },
  {
   "cell_type": "markdown",
   "metadata": {},
   "source": [
    "### Задание 1"
   ]
  },
  {
   "cell_type": "code",
   "execution_count": 27,
   "metadata": {
    "collapsed": true
   },
   "outputs": [],
   "source": [
    "def f5(x):\n",
    "    return (np.sin(50 * x) + np.sin(25 * x) + np.sin(10 * x) + np.cos(10 * x) + \\\n",
    "        np.exp(x - 1) + np.cosh(3 * (1-x)) + np.cosh(3 * x)) / 15"
   ]
  },
  {
   "cell_type": "code",
   "execution_count": 28,
   "metadata": {
    "scrolled": true
   },
   "outputs": [
    {
     "data": {
      "image/png": "[encoded data removed]",
      "text/plain": [
       "<matplotlib.figure.Figure at 0x1a0badfb6d8>"
      ]
     },
     "metadata": {},
     "output_type": "display_data"
    }
   ],
   "source": [
    "x_5 = np.linspace(0, 1, 500)\n",
    "y_5 = f5(x_5)\n",
    "fig = plt.figure(1, figsize=(8, 4))\n",
    "plt.plot(x_5, y_5, '-', markersize=5)\n",
    "plt.xlabel('$x$')\n",
    "plt.ylabel('$y=f(x)$')\n",
    "plt.show()"
   ]
  },
  {
   "cell_type": "markdown",
   "metadata": {},
   "source": [
    "### Задание 2"
   ]
  },
  {
   "cell_type": "code",
   "execution_count": 29,
   "metadata": {},
   "outputs": [
    {
     "data": {
      "image/png": "[encoded data removed]",
      "text/plain": [
       "<matplotlib.figure.Figure at 0x1a0bade93c8>"
      ]
     },
     "metadata": {},
     "output_type": "display_data"
    }
   ],
   "source": [
    "N = 100\n",
    "p_5 = np.linspace(0, 1, N)\n",
    "t_5 = f5(p_5)\n",
    "fig = plt.figure(1, figsize=(8, 4))\n",
    "plt.plot(p_5, t_5, '.', markersize=5)\n",
    "plt.xlabel('$x$')\n",
    "plt.ylabel('$y=f(x)$')\n",
    "plt.show()"
   ]
  },
  {
   "cell_type": "markdown",
   "metadata": {},
   "source": [
    "## №6a. Линейная функция с памятью"
   ]
  },
  {
   "cell_type": "markdown",
   "metadata": {},
   "source": [
    "### Задание 1"
   ]
  },
  {
   "cell_type": "markdown",
   "metadata": {},
   "source": [
    "Линейная функция с памятью:\n",
    "$$ y[n] = \\sum_{i=0}^{h-1} x[n - i\\cdot d]\\cdot k_i $$\n",
    "где $h$ – ширина окна, $d$ – глубина задержек, $k_i$ – коэффициенты.\n",
    "\n",
    "Зададим коэффициенты: $h = 8, d = 4$.\n",
    "\n",
    "$k_i = \\left|\\ \\sin(i+1) \\cdot 10\\ \\right|$"
   ]
  },
  {
   "cell_type": "code",
   "execution_count": 30,
   "metadata": {},
   "outputs": [
    {
     "name": "stdout",
     "output_type": "stream",
     "text": [
      "k0 = 8.414709848078965\n",
      "k1 = 9.092974268256818\n",
      "k2 = 1.4112000805986722\n",
      "k3 = 7.5680249530792825\n",
      "k4 = 9.589242746631385\n",
      "k5 = 2.7941549819892586\n",
      "k6 = 6.569865987187891\n",
      "k7 = 9.893582466233818\n"
     ]
    }
   ],
   "source": [
    "k = np.abs(np.sin(np.arange(8) + 1)) * 10\n",
    "for i in range(len(k)):\n",
    "    print('k{} = {}'.format(i, k[i]))"
   ]
  },
  {
   "cell_type": "markdown",
   "metadata": {},
   "source": [
    "### Задание 2"
   ]
  },
  {
   "cell_type": "markdown",
   "metadata": {},
   "source": [
    "## №6b. Нелинейная функция с памятью"
   ]
  },
  {
   "cell_type": "markdown",
   "metadata": {},
   "source": [
    "### Задание 1"
   ]
  },
  {
   "cell_type": "markdown",
   "metadata": {},
   "source": [
    "Нелинейная функция с памятью:\n",
    "$$ y[n] = f(x[n], x[n - d],..., x[n - (h - 1)\\cdot d]) $$\n",
    "где $h$ – ширина окна, $d$ – глубина задержек\n",
    "\n",
    "Зададим коэффициенты: $h = 3, d = 2$."
   ]
  },
  {
   "cell_type": "markdown",
   "metadata": {},
   "source": [
    "### Задание 2"
   ]
  },
  {
   "cell_type": "markdown",
   "metadata": {},
   "source": [
    "## №7. Линейное разностное уравнение"
   ]
  },
  {
   "cell_type": "markdown",
   "metadata": {},
   "source": [
    "### Задание 1"
   ]
  },
  {
   "cell_type": "markdown",
   "metadata": {},
   "source": [
    "### Задание 2"
   ]
  },
  {
   "cell_type": "markdown",
   "metadata": {},
   "source": [
    "## №8. Многомерные образы"
   ]
  },
  {
   "cell_type": "markdown",
   "metadata": {},
   "source": [
    "### Задание 1"
   ]
  },
  {
   "cell_type": "markdown",
   "metadata": {},
   "source": [
    "### Задание 2"
   ]
  }
 ],
 "metadata": {
  "kernelspec": {
   "display_name": "Python 3",
   "language": "python",
   "name": "python3"
  },
  "language_info": {
   "codemirror_mode": {
    "name": "ipython",
    "version": 3
   },
   "file_extension": ".py",
   "mimetype": "text/x-python",
   "name": "python",
   "nbconvert_exporter": "python",
   "pygments_lexer": "ipython3",
   "version": "3.6.1"
  }
 },
 "nbformat": 4,
 "nbformat_minor": 2
}
