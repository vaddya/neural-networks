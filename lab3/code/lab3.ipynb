{
 "cells": [
  {
   "cell_type": "markdown",
   "metadata": {},
   "source": [
    "# Лабораторная работа №3\n",
    "### Дьячков Вадим, 33501/4"
   ]
  },
  {
   "cell_type": "markdown",
   "metadata": {},
   "source": [
    "### Инициализация окружения"
   ]
  },
  {
   "cell_type": "code",
   "execution_count": 1,
   "metadata": {
    "collapsed": true
   },
   "outputs": [],
   "source": [
    "%matplotlib inline\n",
    "import numpy as np\n",
    "import seaborn as sns\n",
    "from matplotlib import pyplot as plt\n",
    "from sklearn.datasets import load_digits\n",
    "from scipy.ndimage.interpolation import rotate, shift\n",
    "from scipy.io import savemat\n",
    "\n",
    "np.random.seed(42)\n",
    "sns.set(font_scale=1.25)"
   ]
  },
  {
   "cell_type": "markdown",
   "metadata": {},
   "source": [
    "## №8. Многомерные образы"
   ]
  },
  {
   "cell_type": "markdown",
   "metadata": {},
   "source": [
    "### Задание 1"
   ]
  },
  {
   "cell_type": "markdown",
   "metadata": {},
   "source": [
    "Для задачи классификации будем использовать набор, встроенный в библиотеку scikit для языка программирования Python. Набор включает в себя 1797 черно-белых изображений рукописных цифр (то есть 10 классов) размером $8 \\times 8$ пикселей."
   ]
  },
  {
   "cell_type": "code",
   "execution_count": 2,
   "metadata": {},
   "outputs": [
    {
     "name": "stdout",
     "output_type": "stream",
     "text": [
      "(1797, 64)\n"
     ]
    },
    {
     "data": {
      "image/png": "[encoded data removed]",
      "text/plain": [
       "<matplotlib.figure.Figure at 0x7f3e86332da0>"
      ]
     },
     "metadata": {},
     "output_type": "display_data"
    }
   ],
   "source": [
    "digits = load_digits() # 8x8 pictures\n",
    "print(digits.data.shape)\n",
    "\n",
    "fig = plt.figure(figsize=(8, 2), dpi=120)\n",
    "for i in range(10):\n",
    "    fig.add_subplot(1, 10, i + 1)\n",
    "    plt.imshow(digits.images[i], cmap=plt.cm.gray_r)\n",
    "    plt.axis('off')\n",
    "plt.savefig('../pics/5_1_1.png', bbox_inches='tight')\n",
    "plt.show() "
   ]
  },
  {
   "cell_type": "code",
   "execution_count": 3,
   "metadata": {
    "collapsed": true
   },
   "outputs": [],
   "source": [
    "savemat('matlab/8.mat', mdict={'P': digits.data, 'T': digits.target})"
   ]
  },
  {
   "cell_type": "markdown",
   "metadata": {},
   "source": [
    "### Задание 2"
   ]
  },
  {
   "cell_type": "markdown",
   "metadata": {},
   "source": [
    "Примеры образов, зашумленных с разной степенью интенсивности относительно исходных"
   ]
  },
  {
   "cell_type": "code",
   "execution_count": 4,
   "metadata": {
    "collapsed": true
   },
   "outputs": [],
   "source": [
    "noisy = np.empty_like(digits.data);\n",
    "\n",
    "i = 0\n",
    "for d in digits.data:\n",
    "    k = np.random.randint(1, 12)\n",
    "    noisy[i,:] = digits.data[i] + np.random.randint(-k, k, size=64)\n",
    "    noisy[i,noisy[i,:] < 0] = 0\n",
    "    i += 1;"
   ]
  },
  {
   "cell_type": "code",
   "execution_count": 5,
   "metadata": {},
   "outputs": [
    {
     "data": {
      "image/png": "[encoded data removed]",
      "text/plain": [
       "<matplotlib.figure.Figure at 0x7f3e82412c88>"
      ]
     },
     "metadata": {},
     "output_type": "display_data"
    }
   ],
   "source": [
    "fig = plt.figure(figsize=(8, 2), dpi=120)\n",
    "for i in range(10):\n",
    "    fig.add_subplot(1, 10, i + 1)\n",
    "    plt.imshow(noisy[i].reshape((8,8)), cmap=plt.cm.gray_r)\n",
    "    plt.axis('off')\n",
    "plt.savefig('../pics/5_1_2.png', bbox_inches='tight')\n",
    "plt.show()"
   ]
  },
  {
   "cell_type": "code",
   "execution_count": 6,
   "metadata": {
    "collapsed": true
   },
   "outputs": [],
   "source": [
    "savemat('matlab/8_noisy.mat', mdict={'P_noisy': noisy, 'T': digits.target})"
   ]
  },
  {
   "cell_type": "markdown",
   "metadata": {},
   "source": [
    "Примеры образов, имеющих геометрические искажения (поворот на различный угол)."
   ]
  },
  {
   "cell_type": "code",
   "execution_count": 7,
   "metadata": {
    "collapsed": true
   },
   "outputs": [],
   "source": [
    "rot = np.empty_like(digits.data);\n",
    "\n",
    "i = 0\n",
    "for d in digits.data:\n",
    "    alpha = np.random.randint(-60, 60)\n",
    "    rot[i,:] = rotate(digits.images[i], alpha, reshape=False, order=0).flatten()\n",
    "    i += 1;"
   ]
  },
  {
   "cell_type": "code",
   "execution_count": 8,
   "metadata": {},
   "outputs": [
    {
     "data": {
      "image/png": "[encoded data removed]",
      "text/plain": [
       "<matplotlib.figure.Figure at 0x7f3e858563c8>"
      ]
     },
     "metadata": {},
     "output_type": "display_data"
    }
   ],
   "source": [
    "fig = plt.figure(figsize=(8, 2), dpi=120)\n",
    "for i in range(10):\n",
    "    fig.add_subplot(1, 10, i + 1)\n",
    "    plt.imshow(rot[i].reshape((8,8)), cmap=plt.cm.gray_r)\n",
    "    plt.axis('off')\n",
    "plt.savefig('../pics/5_1_3.png', bbox_inches='tight')\n",
    "plt.show()"
   ]
  },
  {
   "cell_type": "code",
   "execution_count": 9,
   "metadata": {
    "collapsed": true
   },
   "outputs": [],
   "source": [
    "savemat('matlab/8_rotate.mat', mdict={'P_rotate': rot, 'T': digits.target})"
   ]
  },
  {
   "cell_type": "markdown",
   "metadata": {},
   "source": [
    "Образы, являющиеся некоторой частью от исходных."
   ]
  },
  {
   "cell_type": "code",
   "execution_count": 10,
   "metadata": {
    "collapsed": true
   },
   "outputs": [],
   "source": [
    "shi = np.empty_like(digits.data);\n",
    "\n",
    "i = 0\n",
    "for d in digits.data:\n",
    "    s = np.random.randint(-2, 2)\n",
    "    shifted = shift(digits.images[i], s, prefilter=False, order=0)\n",
    "    alpha = 0 #np.random.randint(-30, 30)\n",
    "    rotated = rotate(shifted, alpha, reshape=False, prefilter=False, order=0)\n",
    "    shi[i,:] = rotated.flatten()\n",
    "    i += 1;"
   ]
  },
  {
   "cell_type": "code",
   "execution_count": 11,
   "metadata": {},
   "outputs": [
    {
     "data": {
      "image/png": "[encoded data removed]",
      "text/plain": [
       "<matplotlib.figure.Figure at 0x7f3e85889128>"
      ]
     },
     "metadata": {},
     "output_type": "display_data"
    }
   ],
   "source": [
    "fig = plt.figure(figsize=(8, 2), dpi=120)\n",
    "for i in range(10):\n",
    "    fig.add_subplot(1, 10, i + 1)\n",
    "    plt.imshow(shi[i].reshape((8,8)), cmap=plt.cm.gray_r)\n",
    "    plt.axis('off')\n",
    "plt.savefig('../pics/5_1_4.png', bbox_inches='tight')\n",
    "plt.show()"
   ]
  },
  {
   "cell_type": "code",
   "execution_count": 12,
   "metadata": {
    "collapsed": true
   },
   "outputs": [],
   "source": [
    "savemat('matlab/8_shift.mat', mdict={'P_shift': shi, 'T': digits.target})"
   ]
  }
 ],
 "metadata": {
  "kernelspec": {
   "display_name": "Python 3",
   "language": "python",
   "name": "python3"
  },
  "language_info": {
   "codemirror_mode": {
    "name": "ipython",
    "version": 3
   },
   "file_extension": ".py",
   "mimetype": "text/x-python",
   "name": "python",
   "nbconvert_exporter": "python",
   "pygments_lexer": "ipython3",
   "version": "3.6.1"
  }
 },
 "nbformat": 4,
 "nbformat_minor": 2
}
