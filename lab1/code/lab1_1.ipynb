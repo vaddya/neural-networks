{
 "cells": [
  {
   "cell_type": "markdown",
   "metadata": {},
   "source": [
    "# Лабораторная работа №1\n",
    "### Дьячков Вадим, 33501/4"
   ]
  },
  {
   "cell_type": "markdown",
   "metadata": {},
   "source": [
    "### Цели работы\n",
    "1. Научиться реализвывать многослойный перцептрон (MLP)"
   ]
  },
  {
   "cell_type": "markdown",
   "metadata": {},
   "source": [
    "### Инициализация окружения"
   ]
  },
  {
   "cell_type": "code",
   "execution_count": 20,
   "metadata": {
    "collapsed": true
   },
   "outputs": [],
   "source": [
    "%matplotlib inline\n",
    "import numpy as np\n",
    "import itertools\n",
    "import seaborn as sns\n",
    "from matplotlib import pyplot as plt\n",
    "from scipy.io import savemat\n",
    "\n",
    "from shapely.geometry import Point\n",
    "from shapely.geometry.polygon import Polygon\n",
    "from descartes import PolygonPatch\n",
    "\n",
    "np.random.seed(42)\n",
    "sns.set(font_scale=1.25)\n",
    "\n",
    "BLUE = '#0074D9'\n",
    "RED = '#FF4136'"
   ]
  },
  {
   "cell_type": "markdown",
   "metadata": {},
   "source": [
    "## №1. Крестики-нолики"
   ]
  },
  {
   "cell_type": "markdown",
   "metadata": {},
   "source": [
    "Разделим таблицу $4\\times 4$ на крестики и нолики так, чтобы классы \"O\" (0) и \"X\" (1) были линейно неразделимы:\n",
    "\n",
    "\\begin{cases}\n",
    "y = f(X)\\\\\n",
    "X = [x_1, x_2]\\\\\n",
    "x_i \\in \\{1, 2, 3, 4\\}\\\\\n",
    "y_i \\in \\{0, 1\\}\n",
    "\\end{cases}"
   ]
  },
  {
   "cell_type": "code",
   "execution_count": 2,
   "metadata": {},
   "outputs": [
    {
     "data": {
      "text/plain": [
       "array([[1, 0, 0, 0],\n",
       "       [1, 1, 1, 0],\n",
       "       [0, 0, 1, 0],\n",
       "       [0, 1, 1, 1]])"
      ]
     },
     "execution_count": 2,
     "metadata": {},
     "output_type": "execute_result"
    }
   ],
   "source": [
    "grid = np.array([[0 if np.random.random() > 0.5 else 1 for i in range(4)] for j in range(4)])\n",
    "grid"
   ]
  },
  {
   "cell_type": "code",
   "execution_count": 3,
   "metadata": {
    "collapsed": true
   },
   "outputs": [],
   "source": [
    "def fun(x):\n",
    "    x = np.array(x)\n",
    "    if len(x.shape) == 1:\n",
    "        return grid[x[0] - 1, x[1] - 1]\n",
    "    else:\n",
    "        return np.array([fun(xi) for xi in x])[np.newaxis].T"
   ]
  },
  {
   "cell_type": "code",
   "execution_count": 4,
   "metadata": {},
   "outputs": [
    {
     "data": {
      "text/plain": [
       "(0, 1)"
      ]
     },
     "execution_count": 4,
     "metadata": {},
     "output_type": "execute_result"
    }
   ],
   "source": [
    "fun(np.array([1, 2])), fun([4, 4])"
   ]
  },
  {
   "cell_type": "code",
   "execution_count": 5,
   "metadata": {
    "scrolled": true
   },
   "outputs": [
    {
     "name": "stdout",
     "output_type": "stream",
     "text": [
      "x1 x2    y\n",
      "[1 1] -> 1\n",
      "[1 2] -> 0\n",
      "[1 3] -> 0\n",
      "[1 4] -> 0\n",
      "[2 1] -> 1\n",
      "[2 2] -> 1\n",
      "[2 3] -> 1\n",
      "[2 4] -> 0\n",
      "[3 1] -> 0\n",
      "[3 2] -> 0\n",
      "[3 3] -> 1\n",
      "[3 4] -> 0\n",
      "[4 1] -> 0\n",
      "[4 2] -> 1\n",
      "[4 3] -> 1\n",
      "[4 4] -> 1\n"
     ]
    }
   ],
   "source": [
    "P = np.array(list(itertools.product([1, 2, 3, 4], repeat=2)))\n",
    "T = fun(P)\n",
    "\n",
    "print('x1 x2    y')\n",
    "for i in range(len(P)):\n",
    "    print(P[i], '->', T[i][0])"
   ]
  },
  {
   "cell_type": "code",
   "execution_count": 6,
   "metadata": {
    "scrolled": false
   },
   "outputs": [
    {
     "data": {
      "image/png": "[encoded data removed]",
      "text/plain": [
       "<matplotlib.figure.Figure at 0x7ff2bca494a8>"
      ]
     },
     "metadata": {},
     "output_type": "display_data"
    }
   ],
   "source": [
    "def draw_tic_tac_toe(X, Y, markersize=15):\n",
    "    fig = plt.figure(figsize=(3, 3), dpi=120)\n",
    "    for i in range(len(X)):\n",
    "        x1, x2 = X[i]\n",
    "        y = Y[i][0]\n",
    "        m = 'X' if y == 1 else 'o'\n",
    "        c = RED if y == 1 else BLUE\n",
    "        plt.plot(x1, x2, m, markersize=markersize, color=c)\n",
    "    plt.xticks([1, 2, 3, 4])\n",
    "    plt.yticks([1, 2, 3, 4])\n",
    "    plt.xlim([0.7, 4.3])\n",
    "    plt.ylim([0.7, 4.3])\n",
    "    plt.xlabel('$x_1$')\n",
    "    plt.ylabel('$x_2$')\n",
    "    return fig\n",
    "    \n",
    "fig = draw_tic_tac_toe(P, T)\n",
    "plt.savefig('../pics/1_1.png', bbox_inches='tight')\n",
    "plt.show()"
   ]
  },
  {
   "cell_type": "markdown",
   "metadata": {},
   "source": [
    "## Планирование MLP"
   ]
  },
  {
   "cell_type": "code",
   "execution_count": 7,
   "metadata": {},
   "outputs": [
    {
     "data": {
      "image/png": "[encoded data removed]",
      "text/plain": [
       "<matplotlib.figure.Figure at 0x7ff28610b940>"
      ]
     },
     "metadata": {},
     "output_type": "display_data"
    }
   ],
   "source": [
    "fig = draw_tic_tac_toe(P, T)\n",
    "    \n",
    "plt.plot([3.5, 3.5], [1.5, 5], c='k')\n",
    "plt.text(3.3, 3.8, '1')\n",
    "\n",
    "plt.plot([3.5, 5], [1.5, 1.5], c='k')\n",
    "plt.text(3.8, 1.2, '2')\n",
    "\n",
    "plt.plot([1.5, 5], [3.5, 3.5], c='k')\n",
    "plt.text(2.6, 3.6, '3')\n",
    "\n",
    "plt.plot([1.5, 1.5], [0, 3.5], c='k')\n",
    "plt.text(1.3, 2.9, '4')\n",
    "\n",
    "plt.plot([1.5, 5], [2.5, 2.5], c='k')\n",
    "plt.text(2.9, 2.2, '5')\n",
    "\n",
    "plt.plot([2.5, 2.5], [0, 3.5], c='k')\n",
    "plt.text(2.6, 1.8, '6')\n",
    "\n",
    "plt.plot([0, 2.5], [1.5, 1.5], c='k')\n",
    "plt.text(1.1, 1.6, '7')\n",
    "\n",
    "plt.fill_between([3.5, 5], 5, 1.5, facecolor='green', alpha=0.3)\n",
    "plt.fill_between([1.5, 5], 3.5, 2.5, facecolor='red', alpha=0.3)\n",
    "plt.fill_between([1.5, 2.5], 3.5, 0, facecolor='blue', alpha=0.3)\n",
    "plt.fill_between([0, 2.5], 1.5, 0, facecolor='yellow', alpha=0.3)\n",
    "plt.savefig('../pics/1_2_1.png', bbox_inches='tight')\n",
    "plt.show()"
   ]
  },
  {
   "cell_type": "markdown",
   "metadata": {},
   "source": [
    "<img src='scheme.png'>"
   ]
  },
  {
   "cell_type": "markdown",
   "metadata": {},
   "source": [
    "4 выпуклые области, ограниченные прямыми:\n",
    "\n",
    "$$\n",
    "\\begin{cases}\n",
    ">1\\\\\n",
    ">2\n",
    "\\end{cases}\n",
    "\\hspace{1cm}\n",
    "\\begin{cases}\n",
    "<3\\\\\n",
    ">4\\\\\n",
    ">5\n",
    "\\end{cases}\n",
    "\\hspace{1cm}\n",
    "\\begin{cases}\n",
    "<3\\\\\n",
    ">4\\\\\n",
    "<6\n",
    "\\end{cases}\n",
    "\\hspace{1cm}\n",
    "\\begin{cases}\n",
    "<6\\\\\n",
    "<7\n",
    "\\end{cases}\n",
    "$$"
   ]
  },
  {
   "cell_type": "markdown",
   "metadata": {},
   "source": [
    "### Первый слой:\n",
    "\n",
    "1: $x_1 - 3.5 = 0 \\rightarrow y_{11}$\n",
    "\n",
    "2: $x_2 - 1.5 = 0 \\rightarrow y_{12}$\n",
    "\n",
    "3: $-x_2 + 3.5 = 0 \\rightarrow y_{13}$\n",
    "\n",
    "4: $x_1 - 1.5 = 0 \\rightarrow y_{14}$\n",
    "\n",
    "5: $x_2 - 2.5 = 0 \\rightarrow y_{15}$\n",
    "\n",
    "6: $-x_1 + 2.5 = 0 \\rightarrow y_{16}$\n",
    "\n",
    "7: $-x_2 + 1.5 = 0 \\rightarrow y_{17}$"
   ]
  },
  {
   "cell_type": "code",
   "execution_count": 8,
   "metadata": {
    "collapsed": true
   },
   "outputs": [],
   "source": [
    "W01 = np.array([[1, 0, -3.5],\n",
    "                [0, 1, -1.5],\n",
    "                [0, -1, 3.5],\n",
    "                [1, 0, -1.5],\n",
    "                [0, 1, -2.5],\n",
    "                [-1, 0, 2.5],\n",
    "                [0, -1, 1.5]])"
   ]
  },
  {
   "cell_type": "markdown",
   "metadata": {
    "collapsed": true
   },
   "source": [
    "### Второй слой:\n",
    "\n",
    "1: $y_{11} + y_{12} - 1.5 = 0 \\rightarrow y_{21}$\n",
    "\n",
    "2: $y_{13} + y_{14} + y_{15} - 2.5 = 0 \\rightarrow y_{22}$\n",
    "\n",
    "3: $y_{13} + y_{14} + y_{16} - 2.5 = 0 \\rightarrow y_{23}$\n",
    "\n",
    "4: $y_{16} + y_{17} - 1.5 = 0 \\rightarrow y_{24}$"
   ]
  },
  {
   "cell_type": "code",
   "execution_count": 9,
   "metadata": {
    "collapsed": true
   },
   "outputs": [],
   "source": [
    "W12 = np.array([[1, 1, 0, 0, 0, 0, 0, -1.5],\n",
    "                [0, 0, 1, 1, 1, 0, 0, -2.5],\n",
    "                [0, 0, 1, 1, 0, 1, 0, -2.5],\n",
    "                [0, 0, 0, 0, 0, 1, 1, -1.5]])"
   ]
  },
  {
   "cell_type": "markdown",
   "metadata": {},
   "source": [
    "### Третий слой:\n",
    "\n",
    "1: $y = y_{21} + y_{22} + y_{23} + y_{24} - 0.5$"
   ]
  },
  {
   "cell_type": "code",
   "execution_count": 10,
   "metadata": {
    "collapsed": true
   },
   "outputs": [],
   "source": [
    "W23 = np.array([1, 1, 1, 1, -0.5])"
   ]
  },
  {
   "cell_type": "markdown",
   "metadata": {},
   "source": [
    "## Реализация"
   ]
  },
  {
   "cell_type": "markdown",
   "metadata": {},
   "source": [
    "### На коленке"
   ]
  },
  {
   "cell_type": "code",
   "execution_count": 11,
   "metadata": {
    "collapsed": true
   },
   "outputs": [],
   "source": [
    "def predict(X):\n",
    "    X = np.array(X)\n",
    "    if len(X.shape) == 1:\n",
    "        X01 = X[np.newaxis].T\n",
    "        X01 = np.append(X01, [[1]], axis=0)  # add bias\n",
    "\n",
    "        A1 = W01.dot(X01)  # activations of first layer\n",
    "        X12 = np.where(A1 > 0, 1, 0)\n",
    "        X12 = np.append(X12, [[1]], axis=0)\n",
    "\n",
    "        A2 = W12.dot(X12)\n",
    "        X23 = np.where(A2 > 0, 1, 0)\n",
    "        X23 = np.append(X23, [[1]], axis=0)\n",
    "\n",
    "        return 1 if W23.dot(X23) > 0 else 0\n",
    "    else:\n",
    "        return np.array([predict(Xi) for Xi in X])[np.newaxis].T"
   ]
  },
  {
   "cell_type": "code",
   "execution_count": 12,
   "metadata": {},
   "outputs": [
    {
     "data": {
      "text/plain": [
       "array([[ True],\n",
       "       [ True],\n",
       "       [ True],\n",
       "       [ True],\n",
       "       [ True],\n",
       "       [ True],\n",
       "       [ True],\n",
       "       [ True],\n",
       "       [ True],\n",
       "       [ True],\n",
       "       [ True],\n",
       "       [ True],\n",
       "       [ True],\n",
       "       [ True],\n",
       "       [ True],\n",
       "       [ True]], dtype=bool)"
      ]
     },
     "execution_count": 12,
     "metadata": {},
     "output_type": "execute_result"
    }
   ],
   "source": [
    "Y = predict(P)\n",
    "np.equal(T, Y)"
   ]
  },
  {
   "cell_type": "code",
   "execution_count": 13,
   "metadata": {},
   "outputs": [
    {
     "data": {
      "image/png": "[encoded data removed]",
      "text/plain": [
       "<matplotlib.figure.Figure at 0x7ff285f76828>"
      ]
     },
     "metadata": {},
     "output_type": "display_data"
    }
   ],
   "source": [
    "draw_tic_tac_toe(P, Y)\n",
    "plt.show()"
   ]
  },
  {
   "cell_type": "code",
   "execution_count": 14,
   "metadata": {},
   "outputs": [
    {
     "data": {
      "image/png": "[encoded data removed]",
      "text/plain": [
       "<matplotlib.figure.Figure at 0x7ff285f506a0>"
      ]
     },
     "metadata": {},
     "output_type": "display_data"
    }
   ],
   "source": [
    "t = np.linspace(1, 4, 16)\n",
    "P_big = np.array(list(itertools.product(t, t)))\n",
    "Y_big = predict(P_big)\n",
    "draw_tic_tac_toe(P_big, Y_big, 5)\n",
    "plt.show()\n",
    "\n",
    "savemat('matlab/1_big.mat', mdict={'P_big': P_big, 'T_big': Y_big})"
   ]
  },
  {
   "cell_type": "markdown",
   "metadata": {},
   "source": [
    "Можно заметить, что все 16 точек (и не только они) классифицированы верно."
   ]
  },
  {
   "cell_type": "markdown",
   "metadata": {},
   "source": [
    "### На keras"
   ]
  },
  {
   "cell_type": "code",
   "execution_count": 15,
   "metadata": {},
   "outputs": [
    {
     "name": "stderr",
     "output_type": "stream",
     "text": [
      "Using TensorFlow backend.\n"
     ]
    }
   ],
   "source": [
    "from keras.models import Sequential\n",
    "from keras.layers import Dense, Dropout, Activation\n",
    "from keras.utils import plot_model\n",
    "from keras.backend import sigmoid\n",
    "\n",
    "def binary_activation(x):\n",
    "    return sigmoid(100000 * x)\n",
    "\n",
    "def set_weights(model, W01, W12, W23):\n",
    "    W = [\n",
    "        W01.T[0:-1],  # weights of 1st layer\n",
    "        W01.T[-1],  # bias of 1st layer\n",
    "        W12.T[0:-1],\n",
    "        W12.T[-1],\n",
    "        W23[np.newaxis].T[0:-1],\n",
    "        W23[np.newaxis].T[-1]\n",
    "    ]\n",
    "    model.set_weights(W)\n",
    "\n",
    "model = Sequential()\n",
    "\n",
    "model.add(Dense(7, input_shape=(2,), activation=binary_activation, name='Lines'))\n",
    "model.add(Dense(4, activation=binary_activation, name='Convex_figures'))\n",
    "model.add(Dense(1, activation=binary_activation, name='Any_figure'))\n",
    "\n",
    "model.compile(loss='mean_squared_error',\n",
    "              optimizer='SGD',\n",
    "              metrics=['binary_accuracy'])\n",
    "\n",
    "set_weights(model, W01, W12, W23)"
   ]
  },
  {
   "cell_type": "code",
   "execution_count": 16,
   "metadata": {},
   "outputs": [
    {
     "data": {
      "text/plain": [
       "array([[ True],\n",
       "       [ True],\n",
       "       [ True],\n",
       "       [ True],\n",
       "       [ True],\n",
       "       [ True],\n",
       "       [ True],\n",
       "       [ True],\n",
       "       [ True],\n",
       "       [ True],\n",
       "       [ True],\n",
       "       [ True],\n",
       "       [ True],\n",
       "       [ True],\n",
       "       [ True],\n",
       "       [ True]], dtype=bool)"
      ]
     },
     "execution_count": 16,
     "metadata": {},
     "output_type": "execute_result"
    }
   ],
   "source": [
    "Y = model.predict(P)\n",
    "np.equal(T, Y)"
   ]
  },
  {
   "cell_type": "code",
   "execution_count": 17,
   "metadata": {},
   "outputs": [
    {
     "data": {
      "image/png": "[encoded data removed]",
      "text/plain": [
       "<matplotlib.figure.Figure at 0x7ff285b0c5f8>"
      ]
     },
     "metadata": {},
     "output_type": "display_data"
    }
   ],
   "source": [
    "draw_tic_tac_toe(P_big, Y_big, 5)\n",
    "plt.show()"
   ]
  },
  {
   "cell_type": "markdown",
   "metadata": {},
   "source": [
    "Можно заметить, что все 16 точек (и не только они) классифицированы верно."
   ]
  },
  {
   "cell_type": "markdown",
   "metadata": {},
   "source": [
    "## №3. Разбиение плоскости на 2 класса"
   ]
  },
  {
   "cell_type": "code",
   "execution_count": 22,
   "metadata": {},
   "outputs": [
    {
     "data": {
      "image/png": "[encoded data removed]",
      "text/plain": [
       "<matplotlib.figure.Figure at 0x7ff274239b00>"
      ]
     },
     "metadata": {},
     "output_type": "display_data"
    }
   ],
   "source": [
    "fig = plt.figure(figsize=(5, 5), dpi=120)\n",
    "square = Polygon([(0.4, 0.4), (0.4, 0.6), (0.6, 0.6), (0.6, 0.4)])\n",
    "polygon = Polygon([(0, 0.5), (0.5, 1), (1, 0.5), \n",
    "                   (0.5, 0), (0, 0.5)])\n",
    "polygon = polygon.difference(square)\n",
    "\n",
    "ax = fig.add_subplot(111)\n",
    "ax.add_patch(PolygonPatch(polygon, fc=BLUE))\n",
    "plt.xlabel('$x_1$')\n",
    "plt.ylabel('$x_2$')\n",
    "plt.show()"
   ]
  },
  {
   "cell_type": "code",
   "execution_count": 23,
   "metadata": {
    "collapsed": true
   },
   "outputs": [],
   "source": [
    "def fun(x):\n",
    "    x = np.array(x)\n",
    "    if len(x.shape) == 1:\n",
    "        point = Point(x[0], x[1])\n",
    "        return 1 if polygon.contains(point) else 0\n",
    "    else:\n",
    "        return np.array([fun(xi) for xi in x])[np.newaxis].T"
   ]
  },
  {
   "cell_type": "code",
   "execution_count": 24,
   "metadata": {
    "collapsed": true
   },
   "outputs": [],
   "source": [
    "X = np.linspace(0, 1, 41)\n",
    "P = np.array(list(itertools.product(X, repeat=2)))\n",
    "T = fun(P)\n",
    "N = len(T)"
   ]
  },
  {
   "cell_type": "code",
   "execution_count": 26,
   "metadata": {
    "collapsed": true
   },
   "outputs": [],
   "source": [
    "savemat('matlab/3.mat', mdict={'P': P, 'T': T})"
   ]
  },
  {
   "cell_type": "code",
   "execution_count": null,
   "metadata": {
    "collapsed": true
   },
   "outputs": [],
   "source": []
  }
 ],
 "metadata": {
  "kernelspec": {
   "display_name": "Python 3",
   "language": "python",
   "name": "python3"
  },
  "language_info": {
   "codemirror_mode": {
    "name": "ipython",
    "version": 3
   },
   "file_extension": ".py",
   "mimetype": "text/x-python",
   "name": "python",
   "nbconvert_exporter": "python",
   "pygments_lexer": "ipython3",
   "version": "3.6.1"
  },
  "widgets": {
   "application/vnd.jupyter.widget-state+json": {
    "state": {},
    "version_major": 1,
    "version_minor": 0
   }
  }
 },
 "nbformat": 4,
 "nbformat_minor": 2
}
